{
 "cells": [
  {
   "cell_type": "markdown",
   "metadata": {},
   "source": [
    "# Overview\n",
    "load the necessary libraries"
   ]
  },
  {
   "cell_type": "code",
   "execution_count": 1,
   "metadata": {},
   "outputs": [],
   "source": [
    "from glob import glob\n",
    "import os\n",
    "import pptx"
   ]
  },
  {
   "cell_type": "markdown",
   "metadata": {},
   "source": [
    "Find all presentations and take the first one"
   ]
  },
  {
   "cell_type": "code",
   "execution_count": 2,
   "metadata": {},
   "outputs": [
    {
     "name": "stdout",
     "output_type": "stream",
     "text": [
      "1 found, taking first ../pptx/RSNA Slides - Improving Reading of T2 MRIs through Deep Learning.pptx\n"
     ]
    }
   ],
   "source": [
    "all_pptx = glob('../pptx/*.pptx')\n",
    "cur_pptx = all_pptx[0]\n",
    "print(len(all_pptx), 'found, taking first',cur_pptx)"
   ]
  },
  {
   "cell_type": "markdown",
   "metadata": {},
   "source": [
    "# Extract Text\n",
    "Extract all the text from the presentation"
   ]
  },
  {
   "cell_type": "code",
   "execution_count": 3,
   "metadata": {},
   "outputs": [
    {
     "data": {
      "text/plain": [
       "(['Improving Reading of T2 MRIs through Deep Learning',\n",
       "  'K Mader (4Quant, Zurich, Switzerland)',\n",
       "  'B Stieltjes, E Merkle (Unispital Basel, Switzerland)',\n",
       "  'K Peng (Sun Yat Sun Cancer Center, Guangzhou, China)'],\n",
       " ['info@4quant.com', ',', 'bram.stieltjes@usb.ch', ''])"
      ]
     },
     "execution_count": 3,
     "metadata": {},
     "output_type": "execute_result"
    }
   ],
   "source": [
    "cur_pres = pptx.Presentation(cur_pptx)\n",
    "# text_runs will be populated with a list of strings,\n",
    "# one for each text run in presentation\n",
    "text_runs = []\n",
    "\n",
    "for slide in cur_pres.slides:\n",
    "    for shape in slide.shapes:\n",
    "        if not shape.has_text_frame:\n",
    "            continue\n",
    "        for paragraph in shape.text_frame.paragraphs:\n",
    "            for run in paragraph.runs:\n",
    "                text_runs.append(run.text)\n",
    "text_runs[:4], text_runs[-4:]"
   ]
  },
  {
   "cell_type": "markdown",
   "metadata": {},
   "source": [
    "# Convert to PDF and PNGs"
   ]
  },
  {
   "cell_type": "code",
   "execution_count": 4,
   "metadata": {},
   "outputs": [
    {
     "name": "stdout",
     "output_type": "stream",
     "text": [
      "convert /home/jovyan/pptx/RSNA Slides - Improving Reading of T2 MRIs through Deep Learning.pptx -> /home/jovyan/notebooks/RSNA Slides - Improving Reading of T2 MRIs through Deep Learning.pdf using filter : impress_pdf_Export\r\n",
      "Overwriting: /home/jovyan/notebooks/RSNA Slides - Improving Reading of T2 MRIs through Deep Learning.pdf\r\n"
     ]
    }
   ],
   "source": [
    "!libreoffice --headless --convert-to pdf '{cur_pptx}'"
   ]
  },
  {
   "cell_type": "code",
   "execution_count": 5,
   "metadata": {},
   "outputs": [
    {
     "name": "stdout",
     "output_type": "stream",
     "text": [
      "convert-im6.q16: no images defined `../data/slides/idx%04d.png' @ error/convert.c/ConvertImageCommand/3258.\r\n"
     ]
    }
   ],
   "source": [
    "cur_pdf = os.path.basename(cur_pptx.replace('.pptx', '.pdf'))\n",
    "slide_dir = '../data/slides'\n",
    "os.makedirs(slide_dir, exist_ok=True)\n",
    "!convert -density 400 '{cur_pdf}' -resize 640x480 {slide_dir}/idx%04d.png"
   ]
  },
  {
   "cell_type": "code",
   "execution_count": 6,
   "metadata": {},
   "outputs": [
    {
     "data": {
      "text/plain": [
       "[]"
      ]
     },
     "execution_count": 6,
     "metadata": {},
     "output_type": "execute_result"
    }
   ],
   "source": [
    "glob(os.path.join(slide_dir, '*.png'))"
   ]
  },
  {
   "cell_type": "markdown",
   "metadata": {},
   "source": [
    "# Access Presentations on Google Drive\n",
    "Requires credentials (not binder-safe)"
   ]
  },
  {
   "cell_type": "code",
   "execution_count": null,
   "metadata": {},
   "outputs": [],
   "source": [
    "from pydrive.auth import GoogleAuth\n",
    "from pydrive.drive import GoogleDrive\n",
    "from google.colab import auth\n",
    "from oauth2client.client import GoogleCredentials\n",
    "\n",
    "auth.authenticate_user()\n",
    "gauth = GoogleAuth()\n",
    "gauth.credentials = GoogleCredentials.get_application_default()\n",
    "drive = GoogleDrive(gauth)"
   ]
  }
 ],
 "metadata": {
  "kernelspec": {
   "display_name": "Python 3",
   "language": "python",
   "name": "python3"
  },
  "language_info": {
   "codemirror_mode": {
    "name": "ipython",
    "version": 3
   },
   "file_extension": ".py",
   "mimetype": "text/x-python",
   "name": "python",
   "nbconvert_exporter": "python",
   "pygments_lexer": "ipython3",
   "version": "3.6.4"
  }
 },
 "nbformat": 4,
 "nbformat_minor": 2
}
