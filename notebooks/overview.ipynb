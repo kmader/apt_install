{
 "cells": [
  {
   "cell_type": "code",
   "execution_count": 10,
   "metadata": {},
   "outputs": [
    {
     "data": {
      "text/plain": [
       "['RSNA Slides - Improving Reading of T2 MRIs through Deep Learning.pptx']"
      ]
     },
     "execution_count": 10,
     "metadata": {},
     "output_type": "execute_result"
    }
   ],
   "source": [
    "from glob import glob\n",
    "all_pptx = glob('*.pptx')\n",
    "all_pptx"
   ]
  },
  {
   "cell_type": "code",
   "execution_count": 11,
   "metadata": {},
   "outputs": [],
   "source": [
    "import pptx"
   ]
  },
  {
   "cell_type": "code",
   "execution_count": 13,
   "metadata": {},
   "outputs": [],
   "source": [
    "cur_pres = pptx.Presentation(all_pptx[0])"
   ]
  },
  {
   "cell_type": "code",
   "execution_count": 19,
   "metadata": {},
   "outputs": [
    {
     "data": {
      "text/plain": [
       "['Improving Reading of T2 MRIs through Deep Learning',\n",
       " 'K Mader (4Quant, Zurich, Switzerland)',\n",
       " 'B Stieltjes, E Merkle (Unispital Basel, Switzerland)',\n",
       " 'K Peng (Sun Yat Sun Cancer Center, Guangzhou, China)',\n",
       " 'RSNA 2016',\n",
       " 'Wed Nov 30 2016',\n",
       " 'Nasopharyngeal Cancer',\n",
       " 'Nasopharyngeal Cancer is a widespread disease and is particularly prevalent in south-east Asia. ',\n",
       " 'Early detection plays a crucial role in successful outcomes. ',\n",
       " 'A number of different options with varying levels of side-effects are available, both staging and grading are critical for optimizing patient care. ',\n",
       " 'Detecting / Staging Cancer',\n",
       " 'This task is challenging, time-consuming and often very unreliable with standard approaches.',\n",
       " 'Standard CADx / Computer Vision',\n",
       " 'The standard features like texture, shape are generally poor indicators of lesions. ',\n",
       " 'Every tumor case can look very different',\n",
       " 'There are huge variations in the population.',\n",
       " 'Tumor',\n",
       " 'Healthy',\n",
       " 'Why can YOU solve this problem?',\n",
       " '',\n",
       " '',\n",
       " 'Years of experience / Thousands of cases',\n",
       " 'Relative positions and sizes',\n",
       " '-> Context',\n",
       " 'Building a Model',\n",
       " 'Goal',\n",
       " 'Find tumors/predict outcomes',\n",
       " 'Input',\n",
       " ' ',\n",
       " '12’000 Images from Head MRIs ',\n",
       " '',\n",
       " 'http://www.thebestoncologist.com/pictures/Lung_cancer_staging.jpg',\n",
       " 'What is the data: very heterogeneous',\n",
       " 'Overwhelmed with data and no context',\n",
       " 'A huge amount of data, thousands of images',\n",
       " 'The problem is organizing it to extract meaningful information',\n",
       " 'We can use the DICOM headers, but they are not always reliable since they many involve human inputs (contrast, machine type, settings)',\n",
       " 'A perfect challenge for Deep Learning',\n",
       " 'A Neural Network is a powerful approach for dealing with large diverse datasets',\n",
       " 'Deep Learning is training neural networks with thousands even millions of different neurons spread across dozens of different layers.',\n",
       " 'These layers allow the network to create representations / abstractions of the problem it is solving and incorporate many different types of information',\n",
       " 'Analysis Approach',\n",
       " 'The analysis starts with the MRI and is then preprocessed through two different networks to add context',\n",
       " 'Neural Image Sorter',\n",
       " 'Creates an estimate of the type of image being input',\n",
       " 'Neural Position Estimator',\n",
       " 'Estimates the position of the image inside the patient frame (z) ',\n",
       " 'Analysis Approach',\n",
       " 'The outputs of the first networks are then combined with the original data to be processed in the subsequent networks',\n",
       " 'The Staging network',\n",
       " 'Outputs a T, N, M stage based on the input given',\n",
       " 'Outcome Network',\n",
       " 'Outputs recurrence / remission',\n",
       " 'Neural Image Sorter',\n",
       " '20 layer neural network',\n",
       " 'InfoGAN structure to learn to latent space for different imaging modalities',\n",
       " 'The primary categorial outputs are for imaging type',\n",
       " 'Additional categories are provided for contrast and orientation but these are less reliable channels',\n",
       " 'Neural Position Estimator',\n",
       " '20 layer neural network',\n",
       " 'Trained as an InfoGAN structure to learn to identify position in the body',\n",
       " 'The primary output is a continuous estimation of the position (z) along the patient axis',\n",
       " 'z',\n",
       " 'Staging and Outcome',\n",
       " 'To calculate a staging the inputs of the two previous networks are taken and combined with the original image data',\n",
       " 'For recurrence the staging network is included',\n",
       " 'The setup allows for training piecemeal or ‘end-to-end’',\n",
       " 'Training with thousands of images',\n",
       " 'Examining thousands of images causes the performance of the staging to improve drastically',\n",
       " 'Showing Attention of a Network',\n",
       " 'Go through each patient and update the system so the guess matches the physician identified tumor better',\n",
       " 'Learn patterns of pixels and signals that make up features',\n",
       " 'Patterns of features that make up tumors',\n",
       " 'NASOPHARYNGEAL CANCER: MAN',\n",
       " ' vs MACHINE',\n",
       " 'Finding and measuring features → very strong for computer',\n",
       " 'Tumor Volume (R',\n",
       " '2',\n",
       " ' = 0.96)',\n",
       " 'Making diagnoses and staging → room for improvement',\n",
       " '45% staged correctly',\n",
       " '> 90% staged within 1',\n",
       " 'Improving Reading of T2 MRIs through Deep Learning, K. Mader, RSNA 2016 (Accepted)',\n",
       " 'HOW TO DETECT CANCER?',\n",
       " 'Extensive training',\n",
       " 'with lots of data',\n",
       " 'and Deep Learning',\n",
       " 'Current technology is ready for radiology but:',\n",
       " 'Blackbox nature of AI and data acquisition pose serious challenges (RSNA 2017?)',\n",
       " 'CONCLUSION',\n",
       " 'Joachim Hagger',\n",
       " 'Master of Science in Physics',\n",
       " 'Digital business leader',\n",
       " 'PD Dr. Tobias Heye ',\n",
       " 'Oberarzt und stv. Leiter Kardiale ',\n",
       " 'und Thorakale Diagnostik',\n",
       " 'Dr. Kevin Mader',\n",
       " 'Doctor of Sciences ETHZ',\n",
       " 'Machine Learning / Image ',\n",
       " 'Analysis',\n",
       " '4Q',\n",
       " 'uant',\n",
       " 'BIG IMAGE ANALYTICS',\n",
       " 'Prof. Dr. Elmar M. Merkle',\n",
       " 'Chefarzt  und Leiter Klinik für ',\n",
       " 'Radiologie und Nuklearmedizin',\n",
       " 'Bram Stieltjes, MD, PhD ',\n",
       " 'Forschungsgruppenleiter Radiologie',\n",
       " 'Dr. med. Dipl. Phys. Gregor Sommer',\n",
       " 'Stv. Oberarzt Cardiale und ',\n",
       " 'Thorakale Diagnostik',\n",
       " 'PD Dr. Alexander Sauter',\n",
       " 'Facharzt Radiologie, ',\n",
       " 'Assistenzarzt Nuklearmedizin',\n",
       " 'Joshy Cyriac',\n",
       " 'Machine Learning / Software ',\n",
       " 'Engineering',\n",
       " 'Dr. Thomas J Re, MD, MSEE',\n",
       " 'Research, Software Engineering',\n",
       " 'Flavio Trolese',\n",
       " 'Dipl. Ing. FH Informatik',\n",
       " 'Digital business leader',\n",
       " 'Thanks for your attention!',\n",
       " '',\n",
       " 'Read More',\n",
       " 'https://medium.com/@4quant',\n",
       " 'Code More',\n",
       " 'github.com/4quant',\n",
       " 'Get in touch',\n",
       " 'info@4quant.com',\n",
       " ',',\n",
       " 'bram.stieltjes@usb.ch',\n",
       " '']"
      ]
     },
     "execution_count": 19,
     "metadata": {},
     "output_type": "execute_result"
    }
   ],
   "source": [
    "# text_runs will be populated with a list of strings,\n",
    "# one for each text run in presentation\n",
    "text_runs = []\n",
    "\n",
    "for slide in cur_pres.slides:\n",
    "    for shape in slide.shapes:\n",
    "        if not shape.has_text_frame:\n",
    "            continue\n",
    "        for paragraph in shape.text_frame.paragraphs:\n",
    "            for run in paragraph.runs:\n",
    "                text_runs.append(run.text)\n",
    "text_runs"
   ]
  },
  {
   "cell_type": "code",
   "execution_count": 33,
   "metadata": {},
   "outputs": [
    {
     "name": "stdout",
     "output_type": "stream",
     "text": [
      "unoconv: Cannot find a suitable pyuno library and python binary combination in /usr/lib/libreoffice\r\n",
      "ERROR: No module named 'base'\r\n",
      "\r\n",
      "unoconv: Cannot find a suitable office installation on your system.\r\n",
      "ERROR: Please locate your office installation and send your feedback to:\r\n",
      "       http://github.com/dagwieers/unoconv/issues\r\n"
     ]
    }
   ],
   "source": [
    "!unoconv --export Quality=100  std.pdf"
   ]
  },
  {
   "cell_type": "code",
   "execution_count": 49,
   "metadata": {},
   "outputs": [
    {
     "name": "stdout",
     "output_type": "stream",
     "text": [
      "javaldx: Could not find a Java Runtime Environment!\n",
      "Please ensure that a JVM and the package libreoffice-java-common\n",
      "is installed.\n",
      "If it is already installed then try removing ~/.libreoffice/3/user/config/javasettings_Linux_*.xml\n",
      "Warning: failed to read path from javaldx\n",
      "LibreOffice 5.4.2.2 40m0(Build:2)\n",
      "\n",
      "Error in option: -\n",
      "\n",
      "Usage: soffice [argument...]\n",
      "       argument - switches, switch parameters and document URIs (filenames).\n",
      "\n",
      "Using without special arguments:\n",
      "Opens the start center, if it is used without any arguments.\n",
      "   {file}              Tries to open the file (files) in the components\n",
      "                       suitable for them.\n",
      "   {file} {macro:///Library.Module.MacroName}\n",
      "                       Opens the file and runs specified macros from\n",
      "                       the file.\n",
      "\n",
      "Getting help and information:\n",
      "   --help | -h | -?    Shows this help and quits.\n",
      "   --helpwriter        Opens built-in or online Help on Writer.\n",
      "   --helpcalc          Opens built-in or online Help on Calc.\n",
      "   --helpdraw          Opens built-in or online Help on Draw.\n",
      "   --helpimpress       Opens built-in or online Help on Impress.\n",
      "   --helpbase          Opens built-in or online Help on Base.\n",
      "   --helpbasic         Opens built-in or online Help on Basic scripting\n",
      "                       language.\n",
      "   --helpmath          Opens built-in or online Help on Math.\n",
      "   --version           Shows the version and quits.\n",
      "   --nstemporarydirectory\n",
      "                       (MacOS X sandbox only) Returns path of the temporary\n",
      "                       directory for the current user and exits. Overrides\n",
      "                       all other arguments.\n",
      "\n",
      "General arguments:\n",
      "   --quickstart[=no]   Activates[Deactivates] the Quickstarter service.\n",
      "   --nolockcheck       Disables check for remote instances using one\n",
      "                       installation.\n",
      "   --infilter={filter} Force an input filter type if possible. For example:\n",
      "                       --infilter=\"Calc Office Open XML\"\n",
      "                       --infilter=\"Text (encoded):UTF8,LF,,,\"\n",
      "   --pidfile={file}    Store soffice.bin pid to {file}.\n",
      "   --display {display} Sets the DISPLAY environment variable on UNIX-like\n",
      "                       platforms to the value {display} (only supported by a\n",
      "                       start script).\n",
      "\n",
      "User/programmatic interface control:\n",
      "   --nologo            Disables the splash screen at program start.\n",
      "   --minimized         Starts minimized. The splash screen is not displayed.\n",
      "   --nodefault         Starts without displaying anything except the splash\n",
      "                       screen (do not display initial window).\n",
      "   --invisible         Starts in invisible mode. Neither the start-up logo nor\n",
      "                       the initial program window will be visible. Application\n",
      "                       can be controlled, and documents and dialogs can be\n",
      "                       controlled and opened via the API. Using the parameter,\n",
      "                       the process can only be ended using the taskmanager\n",
      "                       (Windows) or the kill command (UNIX-like systems). It\n",
      "                       cannot be used in conjunction with --quickstart.\n",
      "   --headless          Starts in \"headless mode\" which allows using the\n",
      "                       application without GUI. This special mode can be used\n",
      "                       when the application is controlled by external clients\n",
      "                       via the API.\n",
      "   --norestore         Disables restart and file recovery after a system crash.\n",
      "   --safe-mode         Starts in a safe mode, i.e. starts temporarily with a\n",
      "                       fresh user profile and helps to restore a broken\n",
      "                       configuration.\n",
      "   --accept={UNO-URL}  Specifies an UNO-URL connect-string to create an UNO\n",
      "                       acceptor through which other programs can connect to\n",
      "                       access the API. UNO-URL is string the such kind\n",
      "                   uno:connection-type,params;protocol-name,params;ObjectName.\n",
      "   --unaccept={UNO-URL} Closes an acceptor that was created with --accept. Use\n",
      "                       --unaccept=all to close all open acceptors.\n",
      "   --language={lang}   Uses specified language, if language is not selected\n",
      "                       yet for UI. The lang is a tag of the language in IETF\n",
      "                       language tag.\n",
      "\n",
      "Developer arguments:\n",
      "   --terminate_after_init\n",
      "                       Exit after initialization complete (no documents loaded).\n",
      "   --eventtesting      Exit after loading documents.\n",
      "\n",
      "New document creation arguments:\n",
      "The arguments create an empty document of specified kind. Only one of them may\n",
      "be used in one command line. If filenames are specified after an argument,\n",
      "then it tries to open those files in the specified component.\n",
      "   --writer            Creates an empty Writer document.\n",
      "   --calc              Creates an empty Calc document.\n",
      "   --draw              Creates an empty Draw document.\n",
      "   --impress           Creates an empty Impress document.\n",
      "   --base              Creates a new database.\n",
      "   --global            Creates an empty Writer master (global) document.\n",
      "   --math              Creates an empty Math document (formula).\n",
      "   --web               Creates an empty HTML document.\n",
      "\n",
      "File open arguments:\n",
      "The arguments define how following filenames are treated. New treatment begins\n",
      "after the argument and ends at the next argument. The default treatment is to\n",
      "open documents for editing, and create new documents from document templates.\n",
      "   -n                  Treats following files as templates for creation of new\n",
      "                       documents.\n",
      "   -o                  Opens following files for editing, regardless whether\n",
      "                       they are templates or not.\n",
      "   --pt {Printername}  Prints following files to the printer {Printername},\n",
      "                       after which those files are closed. The splash screen\n",
      "                       does not appear. If used multiple times, only last\n",
      "                       {Printername} is effective for all documents of all\n",
      "                       --pt runs. Also, --printer-name argument of\n",
      "                       --print-to-file switch interferes with {Printername}.\n",
      "   -p                  Prints following files to the default printer, after\n",
      "                       which those files are closed. The splash screen does\n",
      "                       not appear. If the file name contains spaces, then it\n",
      "                       must be enclosed in quotation marks.\n",
      "   --view              Opens following files in viewer mode (read-only).\n",
      "   --show              Opens and starts the following presentation documents \n",
      "                       of each immediately. Files are closed after the showing.\n",
      "                       Files other than Impress documents are opened in\n",
      "                       default mode , regardless of previous mode.\n",
      "   --convert-to OutputFileExtension[:OutputFilterName] [--outdir output_dir]\n",
      "                       Batch convert files (implies --headless). If --outdir\n",
      "                       isn't specified, then current working directory is used\n",
      "                       as output_dir. If --convert-to is used more than once,\n",
      "                       last value of OutputFileExtension[:OutputFilterName] is\n",
      "                       effective. If --outdir is used more than once, only its\n",
      "                       last value is effective. For example:\n",
      "                   --convert-to pdf *.doc\n",
      "                   --convert-to pdf:writer_pdf_Export --outdir /home/user *.doc\n",
      "                   --convert-to \"html:XHTML Writer File:UTF8\" *.doc\n",
      "                   --convert-to \"txt:Text (encoded):UTF8\" *.doc\n",
      "   --print-to-file [--printer-name printer_name] [--outdir output_dir]\n",
      "                       Batch print files to file. If --outdir is not specified,\n",
      "                       then current working directory is used as output_dir.\n",
      "                       If --printer-name or --outdir used multiple times, only\n",
      "                       last value of each is effective. Also, {Printername} of\n",
      "                       --pt switch interferes with --printer-name.\n",
      "   --cat               Dump text content of the following files to console\n",
      "                       (implies --headless). Cannot be used with --convert-to.\n",
      "   -env:<VAR>[=<VALUE>] Set a bootstrap variable. For example: to set\n",
      "                       a non-default user profile path:\n",
      "                       -env:UserInstallation=file:///tmp/test\n",
      "\n",
      "Ignored switches:\n",
      "   -psn                Ignored (MacOS X only).\n",
      "   -Embedding          Ignored (COM+ related; Windows only).\n",
      "   --nofirststartwizard Does nothing, accepted only for backward compatibility.\n",
      "   --protector {arg1} {arg2}\n",
      "                       Used only in unit tests and should have two arguments.\n",
      "\n"
     ]
    }
   ],
   "source": [
    "!libreoffice --headless --convert-to pdf {all_pptx[0]}"
   ]
  },
  {
   "cell_type": "code",
   "execution_count": 50,
   "metadata": {},
   "outputs": [
    {
     "name": "stdout",
     "output_type": "stream",
     "text": [
      "/bin/sh: 1: java: not found\r\n"
     ]
    }
   ],
   "source": [
    "!java"
   ]
  },
  {
   "cell_type": "code",
   "execution_count": 41,
   "metadata": {},
   "outputs": [
    {
     "name": "stdout",
     "output_type": "stream",
     "text": [
      "/bin/sh: 1: pip3: not found\r\n"
     ]
    }
   ],
   "source": [
    "!pip3 install git+https://github.com/dagwieers/unoconv"
   ]
  },
  {
   "cell_type": "code",
   "execution_count": 29,
   "metadata": {},
   "outputs": [
    {
     "name": "stdout",
     "output_type": "stream",
     "text": [
      "/usr/bin/libreoffice\r\n"
     ]
    }
   ],
   "source": [
    "!which libreoffice"
   ]
  },
  {
   "cell_type": "code",
   "execution_count": 48,
   "metadata": {},
   "outputs": [
    {
     "name": "stdout",
     "output_type": "stream",
     "text": [
      "ls: cannot access '/usr/lib/libreoffice/bin/python': No such file or directory\r\n"
     ]
    }
   ],
   "source": [
    "!ls /usr/lib/libreoffice/bin/python"
   ]
  },
  {
   "cell_type": "code",
   "execution_count": 51,
   "metadata": {},
   "outputs": [
    {
     "name": "stdout",
     "output_type": "stream",
     "text": [
      "E: Could not open lock file /var/lib/dpkg/lock - open (13: Permission denied)\r\n",
      "E: Unable to lock the administration directory (/var/lib/dpkg/), are you root?\r\n"
     ]
    }
   ],
   "source": [
    "!apt install java"
   ]
  },
  {
   "cell_type": "code",
   "execution_count": 42,
   "metadata": {},
   "outputs": [
    {
     "name": "stdout",
     "output_type": "stream",
     "text": [
      "/srv/conda/bin/pip\r\n"
     ]
    }
   ],
   "source": [
    "!which pip"
   ]
  },
  {
   "cell_type": "code",
   "execution_count": 43,
   "metadata": {},
   "outputs": [
    {
     "name": "stdout",
     "output_type": "stream",
     "text": [
      "unoconv: Cannot find a suitable pyuno library and python binary combination in /usr/lib/libreoffice\r\n",
      "ERROR: No module named 'uno'\r\n",
      "\r\n",
      "unoconv: Cannot find a suitable office installation on your system.\r\n",
      "ERROR: Please locate your office installation and send your feedback to:\r\n",
      "       http://github.com/dagwieers/unoconv/issues\r\n"
     ]
    }
   ],
   "source": [
    "!/srv/conda/bin/unoconv"
   ]
  },
  {
   "cell_type": "code",
   "execution_count": 46,
   "metadata": {},
   "outputs": [
    {
     "name": "stdout",
     "output_type": "stream",
     "text": [
      "unoconv: Cannot find a suitable pyuno library and python binary combination in /usr/lib/libreoffice\r\n",
      "ERROR: No module named 'uno'\r\n",
      "\r\n",
      "unoconv: Cannot find a suitable office installation on your system.\r\n",
      "ERROR: Please locate your office installation and send your feedback to:\r\n",
      "       http://github.com/dagwieers/unoconv/issues\r\n"
     ]
    }
   ],
   "source": [
    "!UNOPATH=/usr/lib/libreoffice /srv/conda/bin/unoconv"
   ]
  },
  {
   "cell_type": "code",
   "execution_count": null,
   "metadata": {},
   "outputs": [],
   "source": []
  }
 ],
 "metadata": {
  "kernelspec": {
   "display_name": "Python 3",
   "language": "python",
   "name": "python3"
  },
  "language_info": {
   "codemirror_mode": {
    "name": "ipython",
    "version": 3
   },
   "file_extension": ".py",
   "mimetype": "text/x-python",
   "name": "python",
   "nbconvert_exporter": "python",
   "pygments_lexer": "ipython3",
   "version": "3.6.4"
  }
 },
 "nbformat": 4,
 "nbformat_minor": 2
}
